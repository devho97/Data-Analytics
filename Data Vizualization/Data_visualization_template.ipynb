{
 "cells": [
  {
   "cell_type": "code",
   "execution_count": 1,
   "id": "feac0360-3fde-41a4-a95d-f10e24f09260",
   "metadata": {},
   "outputs": [],
   "source": [
    "# Libraries to help with data visualization\n",
    "import matplotlib.pyplot as plt\n",
    "import seaborn as sns\n",
    "\n",
    "# Command to tell Python to actually display the graphs\n",
    "%matplotlib inline"
   ]
  },
  {
   "cell_type": "markdown",
   "id": "3495a32d-c049-4fc0-9b13-8adc0b344760",
   "metadata": {},
   "source": [
    "## Histogram\n",
    "\n",
    "- A **histogram** is a univariate plot which helps us understand the distribution of a continuous numerical variable.\n",
    "- It breaks the range of the continuous variables into a intervals of equal length and then counts the number of observations in each interval.\n",
    "- We will use the *histplot()* function of seaborn to create histograms."
   ]
  },
  {
   "cell_type": "code",
   "execution_count": null,
   "id": "11ebb276-701c-4fb7-87aa-dfc18b218f3f",
   "metadata": {},
   "outputs": [],
   "source": [
    "#example\n",
    "sns.histplot(data=df, x='column_name',y='column_name')\n",
    "'''#parameter\n",
    "bins = 5\n",
    "binwidth = 5\n",
    "kde = True or False\n",
    "hue = 'column_name'\n",
    "'''\n",
    "#customize histogram\n",
    "plt.figure(figsize=(20,7))\n",
    "plt.xlim(3000,50000) #set x-axis limit\n",
    "plt.ylim(0,70) #set y-axis limit\n",
    "plt.xlabel('Price of cars') #set x-axis label\n",
    "plt.ylabel('Frequency') # set y-axis label\n"
   ]
  },
  {
   "cell_type": "markdown",
   "id": "d2824a55-6d9e-4d33-9017-65471c4378a0",
   "metadata": {},
   "source": [
    "## Boxplot\n",
    "\n",
    "- A **boxplot**, or a **box-and-whisker plot**, shows the distribution of numerical data and skewness through displaying the data quartiles\n",
    "- It is also called a **five-number summary plot**, where the five-number summary includes the minimum value, first quartile, median, third quartile, and the maximum value.\n",
    "- The *boxplot()* function of seaborn can be used to create a boxplot."
   ]
  },
  {
   "cell_type": "code",
   "execution_count": null,
   "id": "fb20ec33-a018-4464-a596-76e5faf50cdd",
   "metadata": {},
   "outputs": [],
   "source": [
    "#example\n",
    "sns.boxplot(data=df,x='column_name', y ='column_name')"
   ]
  },
  {
   "cell_type": "markdown",
   "id": "980fc966-c2b5-4b6b-956c-5319eea3beb3",
   "metadata": {},
   "source": [
    "## Bar Graph\n",
    "\n",
    "- A bar graph is generally used to show the counts of observations in each bin (or level or group) of categorical variable using bars.\n",
    "- We can use the *countplot()* function of seaborn to plot a bar graph."
   ]
  },
  {
   "cell_type": "code",
   "execution_count": null,
   "id": "5667622c-86a4-4724-b91a-89e3b288ce51",
   "metadata": {},
   "outputs": [],
   "source": [
    "sns.countplot(data=df, x='body_style', hue='fuel_type');"
   ]
  },
  {
   "cell_type": "markdown",
   "id": "24a9be80-fc32-4e36-86c6-abfd3d8e8f11",
   "metadata": {},
   "source": [
    "## Lineplot\n",
    "\n",
    "Suppose, your dataset has multiple y values for each x value.  A lineplot is a great way to visualize this.  This type of data often shows up when we have data that evolves over time, for example, when we have monthly data over several years.  If we want to compare the individual months, then a line plot is a great option.  This is sometimes called seasonality analysis.\n",
    "\n"
   ]
  },
  {
   "cell_type": "code",
   "execution_count": null,
   "id": "64f49ead-75a0-44ad-8dde-10df35dbfef2",
   "metadata": {},
   "outputs": [],
   "source": [
    "#example\n",
    "sns.lineplot(data = flights , x = 'columm_name' , y = 'column_name', ci = False, style = '',hue='', markers = True)"
   ]
  },
  {
   "cell_type": "markdown",
   "id": "561d6adb-433f-4ac7-850c-14805afc8987",
   "metadata": {},
   "source": [
    "## Scatterplot\n",
    "\n",
    "Sometimes we want to know if two variables mean something when put together, whether a small change in one variable affects the other variable. In such cases, plotting a **scatterplot**, or **scatter-diagram**, with our data points can help us to check whether there is a potential relationship between them.\n",
    "- A **scatterplot** is the simplest mode of a diagrammatic representation of two variables.\n",
    "- It takes two perpendicular axes of coordinates, one for x and one for y.\n",
    "- Unlike the lineplot, it directly plots each pair of values as a point on the 2D space.\n",
    "- The *scatterplot()* function of seaborn can be used to make a scatterplot."
   ]
  },
  {
   "cell_type": "code",
   "execution_count": null,
   "id": "93624f1b-0c82-4cd9-960e-a580ec3ab9c0",
   "metadata": {},
   "outputs": [],
   "source": [
    "#example\n",
    "sns.scatterplot(data=df, x='column_name', y='column_name', hue='column_name');"
   ]
  },
  {
   "cell_type": "markdown",
   "id": "c640bd30-71c5-4ca1-bb7e-778e5cedfdd8",
   "metadata": {},
   "source": [
    "## Pair Plot\n",
    "\n",
    "* A **pairplot** shows the relationship between two numeric variables for each pair of columns in the dataset.\n",
    "* It creates a grid of axes such that each variable in data will be shared in the y-axis across a single row and in the x-axis across a single column.\n",
    "* The *pairplot()* function of seaborn can be used to create such a plot."
   ]
  },
  {
   "cell_type": "code",
   "execution_count": null,
   "id": "8119072e-8bf3-459c-9eef-32fdfacd9087",
   "metadata": {},
   "outputs": [],
   "source": [
    "#example\n",
    "sns.pairplot(data=df[['col_name','col_name','col_name','col_name','col_name','col_name']])"
   ]
  },
  {
   "cell_type": "markdown",
   "id": "4bb2761c-598f-466b-a673-991ff0b397a1",
   "metadata": {},
   "source": [
    "## Heatmap\n",
    "\n",
    "* A **heatmap** is a graphical representation of data as a color-encoded matrix.\n",
    "* It is a great way of representing  the correlation for each pair of columns in the data.\n",
    "* The *heatmap()* function of seaborn helps us to create such a plot."
   ]
  },
  {
   "cell_type": "code",
   "execution_count": null,
   "id": "0265b25f-37be-4e46-a940-aa4a385353f2",
   "metadata": {},
   "outputs": [],
   "source": [
    "#example\n",
    "sns.heatmap(data=df[['numerical_col','numerical_col','numerical_col','numerical_col']].corr(), vmin=-1, vmax=1, fmt=\".2f\", annot=True, cbar=False)\n",
    "\n",
    "#example\n",
    "sns.heatmap(data=df[['numerical_col','numerical_col','numerical_col','numerical_col']].corr(), vmin=-1, vmax=1, fmt=\".2f\", annot=True, cmap='YlGnBu');"
   ]
  },
  {
   "cell_type": "markdown",
   "id": "d4daefab-e3c0-4d10-a272-b1bf21bf73e9",
   "metadata": {},
   "source": [
    "## Customizing plots\n",
    "\n",
    "In this section we will see how we can customize  plots by using different matplotlib and seaborn functions.\n",
    "\n",
    "To change the axis scales of a plot:\n",
    "\n",
    "```\n",
    "    plt.xlim(left, right)   # here left and right indicates the min and the max limits of  x-axis respectively\n",
    "    plt.ylim(bottom, top)   # here bottom and top indicates the min and the max limits of  y-axis respectively\n",
    "```\n",
    "\n",
    "To change the plot title and axis labels:\n",
    "\n",
    "```\n",
    "    plt.title() \n",
    "    plt.xlabel()   # for x_axis labels\n",
    "    plt.ylabel()   # for y_axis labels\n",
    "```\n",
    "To show the grid lines of a plot:\n",
    "\n",
    "```\n",
    "    sns.set(style=\"darkgrid\")\n",
    "    sns.set(style=\"whitegrid\")\n",
    "    sns.set(style=\"white\")\n",
    "```\n",
    "\n",
    "To hide the axes of a plot:\n",
    "\n",
    "```\n",
    "    plt.axis('off')   # it will hide both the x-axis and y-axis\n",
    "```\n",
    "\n",
    "To customize labels of the plot legend:\n",
    "\n",
    "```\n",
    "    ax.legend([])   # takes list of the legend values \n",
    "```\n",
    "\n",
    "To change the position of the plot legend:\n",
    "\n",
    "```\n",
    "    plt.legend(loc=___)\n",
    "```\n",
    "\n",
    "\n",
    "The following values can be added to *loc* to change the location of the legend:\n",
    "- 'upper left', 'upper right', 'lower left', 'lower right', 'center', 'best', [etc.](https://matplotlib.org/stable/api/_as_gen/matplotlib.pyplot.legend.html)\n"
   ]
  },
  {
   "cell_type": "code",
   "execution_count": null,
   "id": "a3806257-af92-4df2-bdf1-e2f175f09fa7",
   "metadata": {},
   "outputs": [],
   "source": [
    "# function to plot a boxplot and a histogram along the same scale.\n",
    "\n",
    "def histogram_boxplot(data, feature, figsize=(15, 10), kde=False, bins=None):\n",
    "    \"\"\"\n",
    "    Boxplot and histogram combined\n",
    "\n",
    "    data: dataframe\n",
    "    feature: dataframe column\n",
    "    figsize: size of figure (default (15,10))\n",
    "    kde: whether to show the density curve (default False)\n",
    "    bins: number of bins for histogram (default None)\n",
    "    \"\"\"\n",
    "\n",
    "    f2, (ax_box2, ax_hist2) = plt.subplots(\n",
    "        nrows=2,  # Number of rows of the subplot grid= 2\n",
    "        sharex=True,  # x-axis will be shared among all subplots\n",
    "        gridspec_kw={\"height_ratios\": (0.25, 0.75)},\n",
    "        figsize=figsize,\n",
    "    )  # creating the 2 subplots\n",
    "    sns.boxplot(\n",
    "        data=data, x=feature, ax=ax_box2, showmeans=True, color=\"violet\"\n",
    "    )  # boxplot will be created and a triangle will indicate the mean value of the column\n",
    "    sns.histplot(\n",
    "        data=data, x=feature, kde=kde, ax=ax_hist2, bins=bins\n",
    "    ) if bins else sns.histplot(\n",
    "        data=data, x=feature, kde=kde, ax=ax_hist2\n",
    "    )  # For histogram\n",
    "    ax_hist2.axvline(\n",
    "        data[feature].mean(), color=\"green\", linestyle=\"--\"\n",
    "    )  # Add mean to the histogram\n",
    "    ax_hist2.axvline(\n",
    "        data[feature].median(), color=\"black\", linestyle=\"-\"\n",
    "    )  # Add median to the histogram"
   ]
  },
  {
   "cell_type": "code",
   "execution_count": null,
   "id": "968a418a-149c-4493-a591-97599eaa0c01",
   "metadata": {},
   "outputs": [],
   "source": [
    "# function to create labeled barplots\n",
    "\n",
    "\n",
    "def labeled_barplot(data, feature, perc=False, n=None):\n",
    "    \"\"\"\n",
    "    Barplot with percentage at the top\n",
    "\n",
    "    data: dataframe\n",
    "    feature: dataframe column\n",
    "    perc: whether to display percentages instead of count (default is False)\n",
    "    n: displays the top n category levels (default is None, i.e., display all levels)\n",
    "    \"\"\"\n",
    "\n",
    "    total = len(data[feature])  # length of the column\n",
    "    count = data[feature].nunique()\n",
    "    if n is None:\n",
    "        plt.figure(figsize=(count + 2, 6))\n",
    "    else:\n",
    "        plt.figure(figsize=(n + 2, 6))\n",
    "\n",
    "    plt.xticks(rotation=90, fontsize=15)\n",
    "    ax = sns.countplot(\n",
    "        data=data,\n",
    "        x=feature,\n",
    "        palette=\"Paired\",\n",
    "        order=data[feature].value_counts().index[:n],\n",
    "    )\n",
    "\n",
    "    for p in ax.patches:\n",
    "        if perc == True:\n",
    "            label = \"{:.1f}%\".format(\n",
    "                100 * p.get_height() / total\n",
    "            )  # percentage of each class of the category\n",
    "        else:\n",
    "            label = p.get_height()  # count of each level of the category\n",
    "\n",
    "        x = p.get_x() + p.get_width() / 2  # width of the plot\n",
    "        y = p.get_height()  # height of the plot\n",
    "\n",
    "        ax.annotate(\n",
    "            label,\n",
    "            (x, y),\n",
    "            ha=\"center\",\n",
    "            va=\"center\",\n",
    "            size=12,\n",
    "            xytext=(0, 5),\n",
    "            textcoords=\"offset points\",\n",
    "        )  # annotate the percentage\n",
    "\n",
    "    plt.show()  # show the plot"
   ]
  },
  {
   "cell_type": "markdown",
   "id": "4f56e7c1-8131-40e4-b017-8e4966499379",
   "metadata": {},
   "source": [
    "## Univariate - For Loop to graph all numerical columns "
   ]
  },
  {
   "cell_type": "code",
   "execution_count": null,
   "id": "dfa8a374-9927-433c-9b09-04617e6ea1cf",
   "metadata": {},
   "outputs": [],
   "source": [
    "def histogram_boxplot_for_columns(data, col):\n",
    "    for col in numeric_columns:\n",
    "        histogram_boxplot(df, col)\n",
    "\n",
    "\n",
    "# Call the function to create visualizations\n",
    "histogram_boxplot_for_columns(df, numeric_columns)\n",
    "\n",
    "# Show the plots\n",
    "plt.show()"
   ]
  },
  {
   "cell_type": "markdown",
   "id": "16b4c03b-3b11-4486-aa74-9536bba801f3",
   "metadata": {},
   "source": [
    "## Univariate - For Loop to graph all categorical columns"
   ]
  },
  {
   "cell_type": "code",
   "execution_count": null,
   "id": "4c5a71c9-5f76-47af-aec0-0d5325190e2c",
   "metadata": {},
   "outputs": [],
   "source": [
    "def label_barplot_for_columns(data, col):\n",
    "    for col in categorical_columns:\n",
    "        labeled_barplot(df, col, perc=True, n=10)\n",
    "\n",
    "\n",
    "label_barplot_for_columns(df, categorical_columns)\n",
    "plt.show()"
   ]
  }
 ],
 "metadata": {
  "kernelspec": {
   "display_name": "Python 3 (ipykernel)",
   "language": "python",
   "name": "python3"
  },
  "language_info": {
   "codemirror_mode": {
    "name": "ipython",
    "version": 3
   },
   "file_extension": ".py",
   "mimetype": "text/x-python",
   "name": "python",
   "nbconvert_exporter": "python",
   "pygments_lexer": "ipython3",
   "version": "3.11.5"
  }
 },
 "nbformat": 4,
 "nbformat_minor": 5
}
